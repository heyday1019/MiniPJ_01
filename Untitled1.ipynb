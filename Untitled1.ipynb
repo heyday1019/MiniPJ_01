{
 "cells": [
  {
   "cell_type": "code",
   "execution_count": 1,
   "id": "2180c8fc-61d8-41bb-b82d-83b63098b2ec",
   "metadata": {},
   "outputs": [
    {
     "name": "stderr",
     "output_type": "stream",
     "text": [
      "'gcloud' is not recognized as an internal or external command,\n",
      "operable program or batch file.\n"
     ]
    }
   ],
   "source": [
    "!gcloud auth login\n"
   ]
  },
  {
   "cell_type": "code",
   "execution_count": null,
   "id": "6f556107-b7c3-48ed-957b-a9def130a381",
   "metadata": {},
   "outputs": [],
   "source": []
  }
 ],
 "metadata": {
  "kernelspec": {
   "display_name": "Python 3 (ipykernel)",
   "language": "python",
   "name": "python3"
  },
  "language_info": {
   "codemirror_mode": {
    "name": "ipython",
    "version": 3
   },
   "file_extension": ".py",
   "mimetype": "text/x-python",
   "name": "python",
   "nbconvert_exporter": "python",
   "pygments_lexer": "ipython3",
   "version": "3.11.7"
  }
 },
 "nbformat": 4,
 "nbformat_minor": 5
}
