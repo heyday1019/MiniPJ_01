{
 "cells": [
  {
   "cell_type": "code",
   "execution_count": 9,
   "id": "aedc9486-4419-4971-bc7c-4916a1f4b6ff",
   "metadata": {},
   "outputs": [
    {
     "ename": "ModuleNotFoundError",
     "evalue": "No module named 'langchain_community'",
     "output_type": "error",
     "traceback": [
      "\u001b[1;31m---------------------------------------------------------------------------\u001b[0m",
      "\u001b[1;31mModuleNotFoundError\u001b[0m                       Traceback (most recent call last)",
      "Cell \u001b[1;32mIn[9], line 1\u001b[0m\n\u001b[1;32m----> 1\u001b[0m \u001b[38;5;28;01mimport\u001b[39;00m \u001b[38;5;21;01mlangchain_community\u001b[39;00m\u001b[38;5;21;01m.\u001b[39;00m\u001b[38;5;21;01mllms\u001b[39;00m\u001b[38;5;21;01m.\u001b[39;00m\u001b[38;5;21;01mvertexai\u001b[39;00m \u001b[38;5;28;01mas\u001b[39;00m \u001b[38;5;21;01mvertexai\u001b[39;00m\n\u001b[0;32m      2\u001b[0m \u001b[38;5;28mprint\u001b[39m(\u001b[38;5;28mdir\u001b[39m(vertexai))\n",
      "\u001b[1;31mModuleNotFoundError\u001b[0m: No module named 'langchain_community'"
     ]
    }
   ],
   "source": [
    "import langchain_community.llms.vertexai as vertexai\n",
    "print(dir(vertexai))"
   ]
  },
  {
   "cell_type": "code",
   "execution_count": null,
   "id": "9d9d3ecb-23a8-448a-ae33-200f978c5329",
   "metadata": {},
   "outputs": [],
   "source": [
    "!pip install langchain_community\n"
   ]
  },
  {
   "cell_type": "code",
   "execution_count": 7,
   "id": "95e5f11e-2359-4d3f-9dd2-24b1c5ab49bd",
   "metadata": {},
   "outputs": [
    {
     "name": "stdout",
     "output_type": "stream",
     "text": [
      "Requirement already satisfied: langchain-google-genai in c:\\minipj\\change_for_ask\\minipj2\\lib\\site-packages (1.0.8)\n",
      "Requirement already satisfied: google-generativeai<0.8.0,>=0.7.0 in c:\\minipj\\change_for_ask\\minipj2\\lib\\site-packages (from langchain-google-genai) (0.7.2)\n",
      "Requirement already satisfied: langchain-core<0.3,>=0.2.17 in c:\\minipj\\change_for_ask\\minipj2\\lib\\site-packages (from langchain-google-genai) (0.2.23)\n",
      "Requirement already satisfied: google-ai-generativelanguage==0.6.6 in c:\\minipj\\change_for_ask\\minipj2\\lib\\site-packages (from google-generativeai<0.8.0,>=0.7.0->langchain-google-genai) (0.6.6)\n",
      "Requirement already satisfied: google-api-core in c:\\minipj\\change_for_ask\\minipj2\\lib\\site-packages (from google-generativeai<0.8.0,>=0.7.0->langchain-google-genai) (2.19.1)\n",
      "Requirement already satisfied: google-api-python-client in c:\\minipj\\change_for_ask\\minipj2\\lib\\site-packages (from google-generativeai<0.8.0,>=0.7.0->langchain-google-genai) (2.138.0)\n",
      "Requirement already satisfied: google-auth>=2.15.0 in c:\\minipj\\change_for_ask\\minipj2\\lib\\site-packages (from google-generativeai<0.8.0,>=0.7.0->langchain-google-genai) (2.32.0)\n",
      "Requirement already satisfied: protobuf in c:\\minipj\\change_for_ask\\minipj2\\lib\\site-packages (from google-generativeai<0.8.0,>=0.7.0->langchain-google-genai) (4.25.4)\n",
      "Requirement already satisfied: pydantic in c:\\minipj\\change_for_ask\\minipj2\\lib\\site-packages (from google-generativeai<0.8.0,>=0.7.0->langchain-google-genai) (2.8.2)\n",
      "Requirement already satisfied: tqdm in c:\\minipj\\change_for_ask\\minipj2\\lib\\site-packages (from google-generativeai<0.8.0,>=0.7.0->langchain-google-genai) (4.66.4)\n",
      "Requirement already satisfied: typing-extensions in c:\\minipj\\change_for_ask\\minipj2\\lib\\site-packages (from google-generativeai<0.8.0,>=0.7.0->langchain-google-genai) (4.12.2)\n",
      "Requirement already satisfied: proto-plus<2.0.0dev,>=1.22.3 in c:\\minipj\\change_for_ask\\minipj2\\lib\\site-packages (from google-ai-generativelanguage==0.6.6->google-generativeai<0.8.0,>=0.7.0->langchain-google-genai) (1.24.0)\n",
      "Requirement already satisfied: PyYAML>=5.3 in c:\\minipj\\change_for_ask\\minipj2\\lib\\site-packages (from langchain-core<0.3,>=0.2.17->langchain-google-genai) (6.0.1)\n",
      "Requirement already satisfied: jsonpatch<2.0,>=1.33 in c:\\minipj\\change_for_ask\\minipj2\\lib\\site-packages (from langchain-core<0.3,>=0.2.17->langchain-google-genai) (1.33)\n",
      "Requirement already satisfied: langsmith<0.2.0,>=0.1.75 in c:\\minipj\\change_for_ask\\minipj2\\lib\\site-packages (from langchain-core<0.3,>=0.2.17->langchain-google-genai) (0.1.93)\n",
      "Requirement already satisfied: packaging<25,>=23.2 in c:\\minipj\\change_for_ask\\minipj2\\lib\\site-packages (from langchain-core<0.3,>=0.2.17->langchain-google-genai) (24.1)\n",
      "Requirement already satisfied: tenacity!=8.4.0,<9.0.0,>=8.1.0 in c:\\minipj\\change_for_ask\\minipj2\\lib\\site-packages (from langchain-core<0.3,>=0.2.17->langchain-google-genai) (8.5.0)\n",
      "Requirement already satisfied: googleapis-common-protos<2.0.dev0,>=1.56.2 in c:\\minipj\\change_for_ask\\minipj2\\lib\\site-packages (from google-api-core->google-generativeai<0.8.0,>=0.7.0->langchain-google-genai) (1.63.2)\n",
      "Requirement already satisfied: requests<3.0.0.dev0,>=2.18.0 in c:\\minipj\\change_for_ask\\minipj2\\lib\\site-packages (from google-api-core->google-generativeai<0.8.0,>=0.7.0->langchain-google-genai) (2.32.3)\n",
      "Requirement already satisfied: cachetools<6.0,>=2.0.0 in c:\\minipj\\change_for_ask\\minipj2\\lib\\site-packages (from google-auth>=2.15.0->google-generativeai<0.8.0,>=0.7.0->langchain-google-genai) (5.4.0)\n",
      "Requirement already satisfied: pyasn1-modules>=0.2.1 in c:\\minipj\\change_for_ask\\minipj2\\lib\\site-packages (from google-auth>=2.15.0->google-generativeai<0.8.0,>=0.7.0->langchain-google-genai) (0.4.0)\n",
      "Requirement already satisfied: rsa<5,>=3.1.4 in c:\\minipj\\change_for_ask\\minipj2\\lib\\site-packages (from google-auth>=2.15.0->google-generativeai<0.8.0,>=0.7.0->langchain-google-genai) (4.9)\n",
      "Requirement already satisfied: jsonpointer>=1.9 in c:\\minipj\\change_for_ask\\minipj2\\lib\\site-packages (from jsonpatch<2.0,>=1.33->langchain-core<0.3,>=0.2.17->langchain-google-genai) (3.0.0)\n",
      "Requirement already satisfied: orjson<4.0.0,>=3.9.14 in c:\\minipj\\change_for_ask\\minipj2\\lib\\site-packages (from langsmith<0.2.0,>=0.1.75->langchain-core<0.3,>=0.2.17->langchain-google-genai) (3.10.6)\n",
      "Requirement already satisfied: annotated-types>=0.4.0 in c:\\minipj\\change_for_ask\\minipj2\\lib\\site-packages (from pydantic->google-generativeai<0.8.0,>=0.7.0->langchain-google-genai) (0.7.0)\n",
      "Requirement already satisfied: pydantic-core==2.20.1 in c:\\minipj\\change_for_ask\\minipj2\\lib\\site-packages (from pydantic->google-generativeai<0.8.0,>=0.7.0->langchain-google-genai) (2.20.1)\n",
      "Requirement already satisfied: httplib2<1.dev0,>=0.19.0 in c:\\minipj\\change_for_ask\\minipj2\\lib\\site-packages (from google-api-python-client->google-generativeai<0.8.0,>=0.7.0->langchain-google-genai) (0.22.0)\n",
      "Requirement already satisfied: google-auth-httplib2<1.0.0,>=0.2.0 in c:\\minipj\\change_for_ask\\minipj2\\lib\\site-packages (from google-api-python-client->google-generativeai<0.8.0,>=0.7.0->langchain-google-genai) (0.2.0)\n",
      "Requirement already satisfied: uritemplate<5,>=3.0.1 in c:\\minipj\\change_for_ask\\minipj2\\lib\\site-packages (from google-api-python-client->google-generativeai<0.8.0,>=0.7.0->langchain-google-genai) (4.1.1)\n",
      "Requirement already satisfied: colorama in c:\\minipj\\change_for_ask\\minipj2\\lib\\site-packages (from tqdm->google-generativeai<0.8.0,>=0.7.0->langchain-google-genai) (0.4.6)\n",
      "Requirement already satisfied: grpcio<2.0dev,>=1.33.2 in c:\\minipj\\change_for_ask\\minipj2\\lib\\site-packages (from google-api-core[grpc]!=2.0.*,!=2.1.*,!=2.10.*,!=2.2.*,!=2.3.*,!=2.4.*,!=2.5.*,!=2.6.*,!=2.7.*,!=2.8.*,!=2.9.*,<3.0.0dev,>=1.34.1->google-ai-generativelanguage==0.6.6->google-generativeai<0.8.0,>=0.7.0->langchain-google-genai) (1.65.1)\n",
      "Requirement already satisfied: grpcio-status<2.0.dev0,>=1.33.2 in c:\\minipj\\change_for_ask\\minipj2\\lib\\site-packages (from google-api-core[grpc]!=2.0.*,!=2.1.*,!=2.10.*,!=2.2.*,!=2.3.*,!=2.4.*,!=2.5.*,!=2.6.*,!=2.7.*,!=2.8.*,!=2.9.*,<3.0.0dev,>=1.34.1->google-ai-generativelanguage==0.6.6->google-generativeai<0.8.0,>=0.7.0->langchain-google-genai) (1.62.2)\n",
      "Requirement already satisfied: pyparsing!=3.0.0,!=3.0.1,!=3.0.2,!=3.0.3,<4,>=2.4.2 in c:\\minipj\\change_for_ask\\minipj2\\lib\\site-packages (from httplib2<1.dev0,>=0.19.0->google-api-python-client->google-generativeai<0.8.0,>=0.7.0->langchain-google-genai) (3.1.2)\n",
      "Requirement already satisfied: pyasn1<0.7.0,>=0.4.6 in c:\\minipj\\change_for_ask\\minipj2\\lib\\site-packages (from pyasn1-modules>=0.2.1->google-auth>=2.15.0->google-generativeai<0.8.0,>=0.7.0->langchain-google-genai) (0.6.0)\n",
      "Requirement already satisfied: charset-normalizer<4,>=2 in c:\\minipj\\change_for_ask\\minipj2\\lib\\site-packages (from requests<3.0.0.dev0,>=2.18.0->google-api-core->google-generativeai<0.8.0,>=0.7.0->langchain-google-genai) (3.3.2)\n",
      "Requirement already satisfied: idna<4,>=2.5 in c:\\minipj\\change_for_ask\\minipj2\\lib\\site-packages (from requests<3.0.0.dev0,>=2.18.0->google-api-core->google-generativeai<0.8.0,>=0.7.0->langchain-google-genai) (3.7)\n",
      "Requirement already satisfied: urllib3<3,>=1.21.1 in c:\\minipj\\change_for_ask\\minipj2\\lib\\site-packages (from requests<3.0.0.dev0,>=2.18.0->google-api-core->google-generativeai<0.8.0,>=0.7.0->langchain-google-genai) (2.2.2)\n",
      "Requirement already satisfied: certifi>=2017.4.17 in c:\\minipj\\change_for_ask\\minipj2\\lib\\site-packages (from requests<3.0.0.dev0,>=2.18.0->google-api-core->google-generativeai<0.8.0,>=0.7.0->langchain-google-genai) (2024.7.4)\n"
     ]
    }
   ],
   "source": [
    "!pip install langchain-google-genai"
   ]
  },
  {
   "cell_type": "code",
   "execution_count": 3,
   "id": "d4c40eec-e5d5-4cd3-8760-4dc8034fbb1a",
   "metadata": {},
   "outputs": [
    {
     "ename": "NameError",
     "evalue": "name 'load_gemini_model' is not defined",
     "output_type": "error",
     "traceback": [
      "\u001b[1;31m---------------------------------------------------------------------------\u001b[0m",
      "\u001b[1;31mNameError\u001b[0m                                 Traceback (most recent call last)",
      "Cell \u001b[1;32mIn[3], line 1\u001b[0m\n\u001b[1;32m----> 1\u001b[0m model \u001b[38;5;241m=\u001b[39m load_gemini_model()\n\u001b[0;32m      2\u001b[0m \u001b[38;5;28mprint\u001b[39m(model)\n",
      "\u001b[1;31mNameError\u001b[0m: name 'load_gemini_model' is not defined"
     ]
    }
   ],
   "source": [
    "model = load_gemini_model()\n",
    "print(model) \n"
   ]
  },
  {
   "cell_type": "code",
   "execution_count": 7,
   "id": "794c7aa1-5ac0-4aeb-936e-f2f0846a5a13",
   "metadata": {},
   "outputs": [
    {
     "ename": "ModuleNotFoundError",
     "evalue": "No module named 'langchain_community'",
     "output_type": "error",
     "traceback": [
      "\u001b[1;31m---------------------------------------------------------------------------\u001b[0m",
      "\u001b[1;31mModuleNotFoundError\u001b[0m                       Traceback (most recent call last)",
      "Cell \u001b[1;32mIn[7], line 1\u001b[0m\n\u001b[1;32m----> 1\u001b[0m \u001b[38;5;28;01mfrom\u001b[39;00m \u001b[38;5;21;01mlangchain_community\u001b[39;00m\u001b[38;5;21;01m.\u001b[39;00m\u001b[38;5;21;01mllms\u001b[39;00m\u001b[38;5;21;01m.\u001b[39;00m\u001b[38;5;21;01mvertexai\u001b[39;00m \u001b[38;5;28;01mimport\u001b[39;00m VertexAI\n\u001b[0;32m      2\u001b[0m \u001b[38;5;28;01mimport\u001b[39;00m \u001b[38;5;21;01mos\u001b[39;00m\n\u001b[0;32m      3\u001b[0m \u001b[38;5;28;01mimport\u001b[39;00m \u001b[38;5;21;01mstreamlit\u001b[39;00m \u001b[38;5;28;01mas\u001b[39;00m \u001b[38;5;21;01mst\u001b[39;00m\n",
      "\u001b[1;31mModuleNotFoundError\u001b[0m: No module named 'langchain_community'"
     ]
    }
   ],
   "source": [
    "from langchain_community.llms.vertexai import VertexAI\n",
    "import os\n",
    "import streamlit as st\n",
    "\n",
    "# Gemini API Key 설정\n",
    "GEMINI_API_KEY = st.secrets[\"GEMINI_API_KEY\"]\n",
    "os.environ[\"GOOGLE_APPLICATION_CREDENTIALS\"] = \"your_credentials_file.json\" # 서비스 계정 키 파일 경로\n",
    "\n",
    "# Gemini 모델 설정 함수\n",
    "def load_gemini_model():\n",
    "    try:\n",
    "        llm = VertexAI(\n",
    "            model = VertexAI(model_name=\"gemini-pro\"),\n",
    "            temperature=0.7,\n",
    "            max_output_tokens=1024,\n",
    "        )\n",
    "        return llm\n",
    "    except Exception as e:\n",
    "        st.error(f\"Gemini AI 모델 로드 중 오류 발생: {e}\")\n",
    "        return None\n",
    "\n",
    "# GPT 프롬프트\n",
    "def get_llm(history, user_input):\n",
    "    llm = load_gemini_model()\n",
    "    if llm is None:\n",
    "        return \"Error loading model. Please check your credentials and configuration.\"\n",
    "\n",
    "    prompt = TEMPLATE.format(history=history, input=user_input)\n",
    "    response = llm(prompt)  # Generate text using the loaded model\n",
    "    return response\n",
    "\n",
    "# 프롬프트 템플릿 (Gemini AI 스타일에 맞게 조정)\n",
    "TEMPLATE = \"\"\"\n",
    "### Context ###\n",
    "You are NovelGPT. Your role is to guide the reader through an interactive storybook experience,\n",
    "similar to those found in \"The 39 Clues\" or \"Infinity Ring\" series.\n",
    "\n",
    "### Instructions ###\n",
    "Begin by writing a story visually, as if penned by a renowned author. After composing 2-3 paragraphs, present the reader with four choices (A, B, C, and D) for how the story should proceed. Each of the choice sentences should always start with the alphabet and a period, such as 'A.', 'B.', 'C.', 'D.'.\n",
    "\n",
    "Ask them which path they prefer. Separate the four choices, the line asking for the next action, and the main story with \"-- -- --\".\n",
    "\n",
    "Each of the four options should be on a new line, not separated by commas. If the protagonist already has a name, ensure it is mentioned in all choices. This is mandatory. For instance, if your protagonist is '하얀색 아기 사자 XYZ', each choice must include '하얀색 아기 사자 XYZ'. If there are significant characteristics of the character, these too must always be mentioned. For example, if it's '귀여운 강아지 XYZ', each choice should state '귀여운 강아지 XYZ', not just 'XYZ'. This must be adhered to. The initial 2-3 paragraphs should unfold multiple viable paths to tempt the user into making a choice. Every option must be distinct from the others, and the choices should not be overly similar. Avoid making the book too vulgar. Wait for the reader to make a choice rather than saying \"If you chose A\" or \"If you chose B\". Only after presenting the choices to the reader, ask what the protagonist should do. If the protagonist is the reader themselves, ask \"선택지: 어떻게 해야할까요?\" or if the protagonist has a name XYZ, ask \"선택지: XYZ는 어떻게 해야할까요?\". Key characteristics of the character should always be mentioned. For example, if it's '귀여운 강아지 XYZ', say: \"선택지: 귀여운 강아지 XYZ는 어떻게 해야할까요?\". This must be observed. In the case of multiple protagonists, say \"선택지: 이 친구들은 어떻게 해야할까요?\" only after you have presented all the choices (just the brief versions, not the descriptive ones).\n",
    "\n",
    "If the reader attempts to deviate from the story, i.e., asks irrelevant questions, respond in less than five words and ask if they would like to continue with the story.\n",
    "\n",
    "Please ensure each option is displayed on a different line, and the line asking for a decision is also on a separate line.\n",
    "\n",
    "When you have provided the four choices for a part of the story, you must also give a descriptive prompt for Dalle to generate an image to be displayed alongside that part of the story. Your prompt for Dalle must clearly define every detail of the story's setting. This part is crucial, so a prompt must always be provided. This prompt should always start with the string \"Dalle Prompt Start!\".\n",
    "\n",
    "Do not refer to yourself in the first person at any point in the story! Last but not least, it is important to note, please write in Korean using formal language!\n",
    "\\n\\n\\n\n",
    "Current Conversation: {history}\n",
    "\n",
    "Human: {input}\n",
    "\n",
    "AI:\n",
    "\"\"\"\n"
   ]
  },
  {
   "cell_type": "code",
   "execution_count": null,
   "id": "81e8037a-285b-4e18-9115-c910e90cd5a4",
   "metadata": {},
   "outputs": [],
   "source": [
    "!pip install langchain_community"
   ]
  },
  {
   "cell_type": "code",
   "execution_count": 15,
   "id": "dbfdaa39-8386-4559-b786-4d3e11cc4213",
   "metadata": {},
   "outputs": [
    {
     "ename": "ModuleNotFoundError",
     "evalue": "No module named 'langchain_community'",
     "output_type": "error",
     "traceback": [
      "\u001b[1;31m---------------------------------------------------------------------------\u001b[0m",
      "\u001b[1;31mModuleNotFoundError\u001b[0m                       Traceback (most recent call last)",
      "Cell \u001b[1;32mIn[15], line 1\u001b[0m\n\u001b[1;32m----> 1\u001b[0m \u001b[38;5;28;01mfrom\u001b[39;00m \u001b[38;5;21;01mlangchain_community\u001b[39;00m\u001b[38;5;21;01m.\u001b[39;00m\u001b[38;5;21;01mllms\u001b[39;00m\u001b[38;5;21;01m.\u001b[39;00m\u001b[38;5;21;01mvertexai\u001b[39;00m \u001b[38;5;28;01mimport\u001b[39;00m VertexAI\n\u001b[0;32m      2\u001b[0m \u001b[38;5;28;01mimport\u001b[39;00m \u001b[38;5;21;01mos\u001b[39;00m\n\u001b[0;32m      3\u001b[0m \u001b[38;5;28;01mimport\u001b[39;00m \u001b[38;5;21;01mstreamlit\u001b[39;00m \u001b[38;5;28;01mas\u001b[39;00m \u001b[38;5;21;01mst\u001b[39;00m\n",
      "\u001b[1;31mModuleNotFoundError\u001b[0m: No module named 'langchain_community'"
     ]
    }
   ],
   "source": [
    "from langchain_community.llms.vertexai import VertexAI\n",
    "import os\n",
    "import streamlit as st"
   ]
  },
  {
   "cell_type": "code",
   "execution_count": null,
   "id": "0c7fdf0a-2064-4c7b-87a6-ada7f6cbe135",
   "metadata": {},
   "outputs": [],
   "source": []
  }
 ],
 "metadata": {
  "kernelspec": {
   "display_name": "Python 3 (ipykernel)",
   "language": "python",
   "name": "python3"
  },
  "language_info": {
   "codemirror_mode": {
    "name": "ipython",
    "version": 3
   },
   "file_extension": ".py",
   "mimetype": "text/x-python",
   "name": "python",
   "nbconvert_exporter": "python",
   "pygments_lexer": "ipython3",
   "version": "3.11.7"
  }
 },
 "nbformat": 4,
 "nbformat_minor": 5
}
